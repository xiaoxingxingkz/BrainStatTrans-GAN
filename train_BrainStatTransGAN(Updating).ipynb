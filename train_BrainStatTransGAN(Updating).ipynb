# I am not familiar with Jupiter, but I am trying to finish that. 
The old version is available. If there are any problems, we can communicate in this community.

import numpy as np
import nibabel as nib
import scipy.io as sio 
import torch
import os
from torch import nn
from torch.nn import functional as F 
from torch import autograd
from torch.autograd import Variable
