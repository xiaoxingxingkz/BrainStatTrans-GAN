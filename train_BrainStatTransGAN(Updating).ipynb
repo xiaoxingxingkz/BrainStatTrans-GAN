import numpy as np
import nibabel as nib
import scipy.io as sio 
import torch
import os
from torch import nn
from torch import optim
from torch.nn import functional as F 
from torch import autograd
from torch.autograd import Variable
